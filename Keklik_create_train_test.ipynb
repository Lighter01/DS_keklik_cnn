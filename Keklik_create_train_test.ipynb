{
 "cells": [
  {
   "cell_type": "code",
   "execution_count": 9,
   "id": "7a06700f-0f9f-47dd-b04e-f0ecf43084e3",
   "metadata": {},
   "outputs": [],
   "source": [
    "import shutil\n",
    "import os"
   ]
  },
  {
   "cell_type": "code",
   "execution_count": 10,
   "id": "ab4ac315-9ba1-4061-a6ea-e6b47b6583ff",
   "metadata": {},
   "outputs": [],
   "source": [
    "# def copy_directory(src, dst):\n",
    "#     try:\n",
    "#         if os.path.exists(dst):\n",
    "#             # If the destination directory exists, copy contents to it\n",
    "#             for item in os.listdir(src):\n",
    "#                 s = os.path.join(src, item)\n",
    "#                 d = os.path.join(dst, item)\n",
    "#                 if os.path.isdir(s):\n",
    "#                     shutil.copytree(s, d, symlinks=True)\n",
    "#                 else:\n",
    "#                     shutil.copy2(s, d)\n",
    "#         else:\n",
    "#             # If the destination directory does not exist, perform a regular copytree\n",
    "#             shutil.copytree(src, dst)\n",
    "        \n",
    "#         print(f\"Directory '{src}' copied to '{dst}' successfully.\")\n",
    "#     except Exception as e:\n",
    "#         print(f\"Error copying directory: {e}\")\n",
    "\n",
    "# source_directory = 'datasets/tmp_images'\n",
    "# destination_directory = 'datasets/images'\n",
    "\n",
    "# copy_directory(source_directory, destination_directory)"
   ]
  },
  {
   "cell_type": "code",
   "execution_count": 11,
   "id": "1882874f-8aeb-4000-97c9-9c009356e03e",
   "metadata": {},
   "outputs": [],
   "source": [
    "data_dir = 'datasets/'"
   ]
  },
  {
   "cell_type": "code",
   "execution_count": 12,
   "id": "c434ab5f-7e1b-4af8-9c20-24f789e79dbd",
   "metadata": {},
   "outputs": [],
   "source": [
    "TRAIN_RATIO = 0.8\n",
    "\n",
    "images_dir = os.path.join(data_dir, 'images')\n",
    "train_dir = os.path.join(data_dir, 'train')\n",
    "test_dir = os.path.join(data_dir, 'test')\n",
    "\n",
    "if os.path.exists(train_dir):\n",
    "    shutil.rmtree(train_dir) \n",
    "if os.path.exists(test_dir):\n",
    "    shutil.rmtree(test_dir)\n",
    "    \n",
    "os.makedirs(train_dir)\n",
    "os.makedirs(test_dir)\n",
    "\n",
    "classes = os.listdir(images_dir)"
   ]
  },
  {
   "cell_type": "code",
   "execution_count": 13,
   "id": "82a65ea2-bf39-412e-a483-b466ddc4a971",
   "metadata": {},
   "outputs": [
    {
     "data": {
      "text/plain": [
       "['Alectoris_barbara',\n",
       " 'Alectoris_chukar',\n",
       " 'Alectoris_graeca',\n",
       " 'Alectoris_magna',\n",
       " 'Alectoris_melanocephala',\n",
       " 'Alectoris_philbyi',\n",
       " 'Alectoris_rufa']"
      ]
     },
     "execution_count": 13,
     "metadata": {},
     "output_type": "execute_result"
    }
   ],
   "source": [
    "classes"
   ]
  },
  {
   "cell_type": "code",
   "execution_count": 14,
   "id": "2e9bdd33-f0e0-46b3-8322-87162d4f62bf",
   "metadata": {},
   "outputs": [],
   "source": [
    "for c in classes:\n",
    "    \n",
    "    class_dir = os.path.join(images_dir, c)\n",
    "    \n",
    "    images = os.listdir(class_dir)\n",
    "       \n",
    "    n_train = int(len(images) * TRAIN_RATIO)\n",
    "    \n",
    "    train_images = images[:n_train]\n",
    "    test_images = images[n_train:]\n",
    "    \n",
    "    os.makedirs(os.path.join(train_dir, c), exist_ok = True)\n",
    "    os.makedirs(os.path.join(test_dir, c), exist_ok = True)\n",
    "    \n",
    "    for image in train_images:\n",
    "        image_src = os.path.join(class_dir, image)\n",
    "        image_dst = os.path.join(train_dir, c, image) \n",
    "        shutil.copyfile(image_src, image_dst)\n",
    "        \n",
    "    for image in test_images:\n",
    "        image_src = os.path.join(class_dir, image)\n",
    "        image_dst = os.path.join(test_dir, c, image) \n",
    "        shutil.copyfile(image_src, image_dst)"
   ]
  },
  {
   "cell_type": "code",
   "execution_count": null,
   "id": "eff765a7-b278-4e08-9d39-434e9fbb0186",
   "metadata": {},
   "outputs": [],
   "source": []
  }
 ],
 "metadata": {
  "kernelspec": {
   "display_name": "CNN enviroment",
   "language": "python",
   "name": "cnn"
  },
  "language_info": {
   "codemirror_mode": {
    "name": "ipython",
    "version": 3
   },
   "file_extension": ".py",
   "mimetype": "text/x-python",
   "name": "python",
   "nbconvert_exporter": "python",
   "pygments_lexer": "ipython3",
   "version": "3.10.13"
  }
 },
 "nbformat": 4,
 "nbformat_minor": 5
}
