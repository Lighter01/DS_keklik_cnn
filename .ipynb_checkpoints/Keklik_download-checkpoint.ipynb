{
 "cells": [
  {
   "cell_type": "code",
   "execution_count": 1,
   "id": "ead52c6a-2c31-40a2-9a1b-4800ac58b9b0",
   "metadata": {},
   "outputs": [],
   "source": [
    "import pandas as pd\n",
    "import requests\n",
    "from io import BytesIO\n",
    "from PIL import Image\n",
    "import os\n",
    "import time\n",
    "import concurrent.futures"
   ]
  },
  {
   "cell_type": "code",
   "execution_count": 2,
   "id": "8a17d93a-c016-41ac-b6a6-b854b2f029b8",
   "metadata": {},
   "outputs": [],
   "source": [
    "image_dir = 'datasets/images/'\n",
    "os.makedirs(image_dir, exist_ok=True)"
   ]
  },
  {
   "cell_type": "code",
   "execution_count": 3,
   "id": "7e84d07a-8b48-4b98-86f3-75369f9b0f40",
   "metadata": {},
   "outputs": [
    {
     "data": {
      "text/html": [
       "<div>\n",
       "<style scoped>\n",
       "    .dataframe tbody tr th:only-of-type {\n",
       "        vertical-align: middle;\n",
       "    }\n",
       "\n",
       "    .dataframe tbody tr th {\n",
       "        vertical-align: top;\n",
       "    }\n",
       "\n",
       "    .dataframe thead th {\n",
       "        text-align: right;\n",
       "    }\n",
       "</style>\n",
       "<table border=\"1\" class=\"dataframe\">\n",
       "  <thead>\n",
       "    <tr style=\"text-align: right;\">\n",
       "      <th></th>\n",
       "      <th>id</th>\n",
       "      <th>image_url</th>\n",
       "      <th>scientific_name</th>\n",
       "      <th>common_name</th>\n",
       "      <th>iconic_taxon_name</th>\n",
       "      <th>taxon_id</th>\n",
       "    </tr>\n",
       "  </thead>\n",
       "  <tbody>\n",
       "    <tr>\n",
       "      <th>0</th>\n",
       "      <td>8292</td>\n",
       "      <td>https://inaturalist-open-data.s3.amazonaws.com...</td>\n",
       "      <td>Alectoris chukar</td>\n",
       "      <td>Азиатский кеклик</td>\n",
       "      <td>Aves</td>\n",
       "      <td>846</td>\n",
       "    </tr>\n",
       "    <tr>\n",
       "      <th>1</th>\n",
       "      <td>41520</td>\n",
       "      <td>https://inaturalist-open-data.s3.amazonaws.com...</td>\n",
       "      <td>Alectoris chukar</td>\n",
       "      <td>Азиатский кеклик</td>\n",
       "      <td>Aves</td>\n",
       "      <td>846</td>\n",
       "    </tr>\n",
       "    <tr>\n",
       "      <th>2</th>\n",
       "      <td>44190</td>\n",
       "      <td>https://inaturalist-open-data.s3.amazonaws.com...</td>\n",
       "      <td>Alectoris chukar</td>\n",
       "      <td>Азиатский кеклик</td>\n",
       "      <td>Aves</td>\n",
       "      <td>846</td>\n",
       "    </tr>\n",
       "    <tr>\n",
       "      <th>3</th>\n",
       "      <td>49645</td>\n",
       "      <td>https://static.inaturalist.org/photos/79346/sm...</td>\n",
       "      <td>Alectoris chukar</td>\n",
       "      <td>Азиатский кеклик</td>\n",
       "      <td>Aves</td>\n",
       "      <td>846</td>\n",
       "    </tr>\n",
       "    <tr>\n",
       "      <th>4</th>\n",
       "      <td>65918</td>\n",
       "      <td>https://inaturalist-open-data.s3.amazonaws.com...</td>\n",
       "      <td>Alectoris chukar</td>\n",
       "      <td>Азиатский кеклик</td>\n",
       "      <td>Aves</td>\n",
       "      <td>846</td>\n",
       "    </tr>\n",
       "  </tbody>\n",
       "</table>\n",
       "</div>"
      ],
      "text/plain": [
       "      id                                          image_url   scientific_name  \\\n",
       "0   8292  https://inaturalist-open-data.s3.amazonaws.com...  Alectoris chukar   \n",
       "1  41520  https://inaturalist-open-data.s3.amazonaws.com...  Alectoris chukar   \n",
       "2  44190  https://inaturalist-open-data.s3.amazonaws.com...  Alectoris chukar   \n",
       "3  49645  https://static.inaturalist.org/photos/79346/sm...  Alectoris chukar   \n",
       "4  65918  https://inaturalist-open-data.s3.amazonaws.com...  Alectoris chukar   \n",
       "\n",
       "        common_name iconic_taxon_name  taxon_id  \n",
       "0  Азиатский кеклик              Aves       846  \n",
       "1  Азиатский кеклик              Aves       846  \n",
       "2  Азиатский кеклик              Aves       846  \n",
       "3  Азиатский кеклик              Aves       846  \n",
       "4  Азиатский кеклик              Aves       846  "
      ]
     },
     "execution_count": 3,
     "metadata": {},
     "output_type": "execute_result"
    }
   ],
   "source": [
    "# csv_file_path = 'datasets/tester.csv'\n",
    "csv_file_path = 'datasets/keklik_clear.csv'\n",
    "\n",
    "df = pd.read_csv(csv_file_path)\n",
    "df.head()"
   ]
  },
  {
   "cell_type": "code",
   "execution_count": 4,
   "id": "ab1ea317-35f7-4ec0-8f33-fd939b68453f",
   "metadata": {},
   "outputs": [
    {
     "data": {
      "text/plain": [
       "array(['Alectoris chukar', 'Alectoris rufa', 'Alectoris graeca',\n",
       "       'Alectoris rufa rufa', 'Alectoris rufa intercedens', 'Alectoris',\n",
       "       'Alectoris barbara koenigi', 'Alectoris barbara spatzi',\n",
       "       'Alectoris melanocephala', 'Alectoris barbara',\n",
       "       'Alectoris chukar falki', 'Alectoris graeca whitakeri',\n",
       "       'Alectoris chukar cypriotes', 'Alectoris magna',\n",
       "       'Alectoris graeca orlandoi', 'Alectoris rufa hispanica',\n",
       "       'Alectoris graeca saxatilis', 'Alectoris graeca graeca',\n",
       "       'Alectoris chukar chukar', 'Alectoris barbara barbara',\n",
       "       'Alectoris philbyi', 'Alectoris chukar subpallida'], dtype=object)"
      ]
     },
     "execution_count": 4,
     "metadata": {},
     "output_type": "execute_result"
    }
   ],
   "source": [
    "df.scientific_name.unique()"
   ]
  },
  {
   "cell_type": "code",
   "execution_count": 5,
   "id": "48eb1f35-d5cd-4c5b-8a4a-0508f73f74e9",
   "metadata": {},
   "outputs": [
    {
     "name": "stdout",
     "output_type": "stream",
     "text": [
      "8393\n",
      "8389\n"
     ]
    }
   ],
   "source": [
    "print(df.shape[0])\n",
    "df = df.drop(index = df[df['scientific_name'] == 'Alectoris'].index).reset_index(drop=True)\n",
    "print(df.shape[0])"
   ]
  },
  {
   "cell_type": "code",
   "execution_count": 6,
   "id": "c53b255a-f649-4ecf-b0b8-e161414ccfba",
   "metadata": {},
   "outputs": [
    {
     "data": {
      "text/plain": [
       "7"
      ]
     },
     "execution_count": 6,
     "metadata": {},
     "output_type": "execute_result"
    }
   ],
   "source": [
    "df.loc[df['scientific_name'] == 'Alectoris rufa rufa', 'scientific_name'] = 'Alectoris rufa'\n",
    "df.loc[df['scientific_name'] == 'Alectoris rufa intercedens', 'scientific_name'] = 'Alectoris rufa'\n",
    "df.loc[df['scientific_name'] == 'Alectoris rufa intercedens', 'scientific_name'] = 'Alectoris rufa hispanica'\n",
    "\n",
    "df.loc[df['scientific_name'] == 'Alectoris barbara koenigi', 'scientific_name'] = 'Alectoris barbara'\n",
    "df.loc[df['scientific_name'] == 'Alectoris barbara spatzi', 'scientific_name']  = 'Alectoris barbara'\n",
    "df.loc[df['scientific_name'] == 'Alectoris rufa hispanica', 'scientific_name']  = 'Alectoris barbara'\n",
    "df.loc[df['scientific_name'] == 'Alectoris barbara barbara', 'scientific_name'] = 'Alectoris barbara'\n",
    "\n",
    "df.loc[df['scientific_name'] == 'Alectoris chukar falki', 'scientific_name']      = 'Alectoris chukar'\n",
    "df.loc[df['scientific_name'] == 'Alectoris chukar cypriotes', 'scientific_name']  = 'Alectoris chukar'\n",
    "df.loc[df['scientific_name'] == 'Alectoris chukar chukar', 'scientific_name']     = 'Alectoris chukar'\n",
    "df.loc[df['scientific_name'] == 'Alectoris chukar subpallida', 'scientific_name'] = 'Alectoris chukar'\n",
    "\n",
    "df.loc[df['scientific_name'] == 'Alectoris graeca orlandoi', 'scientific_name']  = 'Alectoris graeca'\n",
    "df.loc[df['scientific_name'] == 'Alectoris graeca saxatilis', 'scientific_name'] = 'Alectoris graeca'\n",
    "df.loc[df['scientific_name'] == 'Alectoris graeca graeca', 'scientific_name']    = 'Alectoris graeca'\n",
    "df.loc[df['scientific_name'] == 'Alectoris graeca whitakeri', 'scientific_name'] = 'Alectoris graeca'\n",
    "\n",
    "df.scientific_name.nunique()"
   ]
  },
  {
   "cell_type": "code",
   "execution_count": 7,
   "id": "c3b0ec4c-1664-4d02-a021-933d0088d032",
   "metadata": {},
   "outputs": [
    {
     "data": {
      "text/plain": [
       "array(['Alectoris_chukar', 'Alectoris_rufa', 'Alectoris_graeca',\n",
       "       'Alectoris_barbara', 'Alectoris_melanocephala', 'Alectoris_magna',\n",
       "       'Alectoris_philbyi'], dtype=object)"
      ]
     },
     "execution_count": 7,
     "metadata": {},
     "output_type": "execute_result"
    }
   ],
   "source": [
    "df['scientific_name'] = [s.replace(' ', '_') for s in df['scientific_name']]\n",
    "unique_species = df.scientific_name.unique()\n",
    "unique_species"
   ]
  },
  {
   "cell_type": "code",
   "execution_count": 8,
   "id": "917d956e-7e16-4391-82f3-d5f3a28fb09d",
   "metadata": {},
   "outputs": [
    {
     "data": {
      "text/plain": [
       "scientific_name\n",
       "Alectoris_barbara           535\n",
       "Alectoris_chukar           3447\n",
       "Alectoris_graeca            193\n",
       "Alectoris_magna               5\n",
       "Alectoris_melanocephala      36\n",
       "Alectoris_philbyi             4\n",
       "Alectoris_rufa             4169\n",
       "dtype: int64"
      ]
     },
     "execution_count": 8,
     "metadata": {},
     "output_type": "execute_result"
    }
   ],
   "source": [
    "row_counts = df.groupby('scientific_name').size()\n",
    "row_counts"
   ]
  },
  {
   "cell_type": "code",
   "execution_count": 8,
   "id": "ec30553a-9fd0-4a54-a236-7ea2f521aab4",
   "metadata": {},
   "outputs": [],
   "source": [
    "for name in unique_species:\n",
    "    os.makedirs(image_dir + name + '/', exist_ok=True)"
   ]
  },
  {
   "cell_type": "code",
   "execution_count": 10,
   "id": "38b95225-91e2-4cf8-a0d2-5c794c378e08",
   "metadata": {},
   "outputs": [
    {
     "name": "stdout",
     "output_type": "stream",
     "text": [
      "Image 0 was downloaded...\n",
      "Image 100 was downloaded...\n",
      "Image 200 was downloaded...\n",
      "Image 300 was downloaded...\n",
      "Image 400 was downloaded...\n",
      "Image 500 was downloaded...\n",
      "Image 600 was downloaded...\n",
      "Image 700 was downloaded...\n",
      "Image 800 was downloaded...\n",
      "Image 900 was downloaded...\n",
      "Image 1000 was downloaded...\n",
      "Image 1100 was downloaded...\n",
      "Image 1200 was downloaded...\n",
      "Image 1300 was downloaded...\n",
      "Image 1400 was downloaded...\n",
      "Image 1500 was downloaded...\n",
      "Image 1600 was downloaded...\n",
      "Image 1700 was downloaded...\n",
      "Image 1800 was downloaded...\n",
      "Image 1900 was downloaded...\n",
      "Image 2000 was downloaded...\n",
      "Image 2100 was downloaded...\n",
      "Image 2200 was downloaded...\n",
      "Image 2300 was downloaded...\n",
      "Image 2400 was downloaded...\n",
      "Image 2500 was downloaded...\n",
      "Image 2600 was downloaded...\n",
      "Image 2700 was downloaded...\n",
      "Image 2800 was downloaded...\n",
      "Image 2900 was downloaded...\n",
      "Image 3000 was downloaded...\n",
      "Image 3100 was downloaded...\n",
      "Image 3200 was downloaded...\n",
      "Image 3300 was downloaded...\n",
      "Image 3400 was downloaded...\n",
      "Image 3500 was downloaded...\n",
      "Image 3600 was downloaded...\n",
      "Image 3700 was downloaded...\n",
      "Image 3800 was downloaded...\n",
      "Image 3900 was downloaded...\n",
      "Image 4000 was downloaded...\n",
      "Image 4100 was downloaded...\n",
      "Image 4200 was downloaded...\n",
      "Image 4300 was downloaded...\n",
      "Image 4400 was downloaded...\n",
      "Image 4500 was downloaded...\n",
      "Image 4600 was downloaded...\n",
      "Image 4700 was downloaded...\n",
      "Image 4800 was downloaded...\n",
      "Image 4900 was downloaded...\n",
      "Image 5000 was downloaded...\n",
      "Image 5100 was downloaded...\n",
      "Image 5200 was downloaded...\n",
      "Image 5300 was downloaded...\n",
      "Image 5400 was downloaded...\n",
      "Image 5500 was downloaded...\n",
      "Image 5600 was downloaded...\n",
      "Image 5700 was downloaded...\n",
      "Image 5800 was downloaded...\n",
      "Image 5900 was downloaded...\n",
      "Image 6000 was downloaded...\n",
      "Image 6100 was downloaded...\n",
      "Image 6200 was downloaded...\n",
      "Image 6300 was downloaded...\n",
      "Image 6400 was downloaded...\n",
      "Image 6500 was downloaded...\n",
      "Image 6600 was downloaded...\n",
      "Image 6700 was downloaded...\n",
      "Image 6800 was downloaded...\n",
      "Image 6900 was downloaded...\n",
      "Image 7000 was downloaded...\n",
      "Image 7100 was downloaded...\n",
      "Image 7200 was downloaded...\n",
      "Image 7300 was downloaded...\n",
      "Image 7400 was downloaded...\n",
      "Image 7500 was downloaded...\n",
      "Image 7600 was downloaded...\n",
      "Image 7700 was downloaded...\n",
      "Image 7800 was downloaded...\n",
      "Image 7900 was downloaded...\n",
      "Image 8000 was downloaded...\n",
      "Image 8100 was downloaded...\n",
      "Image 8200 was downloaded...\n",
      "Image 8300 was downloaded...\n",
      "Finished in 693.7035387999931 seconds\n"
     ]
    }
   ],
   "source": [
    "def download_image(img_url, img_name, img_folder_name, i = -1):\n",
    "    try:\n",
    "        img_bytes = requests.get(img_url).content\n",
    "        img_name = f'{image_dir}{img_folder_name}/{img_name}.jpg'\n",
    "        with open(img_name, 'wb') as img_file:\n",
    "            img_file.write(img_bytes)\n",
    "            if i % 100 == 0:\n",
    "                print(f'Image {i} was downloaded...')\n",
    "            # print(f'{img_name} was downloaded...')\n",
    "            # print(f'Image {i} was downloaded...')\n",
    "    except Exception as e:\n",
    "        print('Exception in download_url():', e)\n",
    "\n",
    "t1 = time.perf_counter()\n",
    "\n",
    "with concurrent.futures.ThreadPoolExecutor() as executor:\n",
    "    for i, (url, name, folder) in enumerate(zip(df['image_url'], df.id, df['scientific_name'])):\n",
    "        executor.submit(download_image, url, name, folder, i)\n",
    "\n",
    "t2 = time.perf_counter()\n",
    "\n",
    "print(f'Finished in {t2-t1} seconds')"
   ]
  },
  {
   "cell_type": "markdown",
   "id": "5a95783f-74d0-4c3c-a419-76d5c5c7bfe3",
   "metadata": {},
   "source": [
    "---"
   ]
  },
  {
   "cell_type": "code",
   "execution_count": 131,
   "id": "f8d1d8cf-5b01-4fa8-bb67-d81c98f9c0cc",
   "metadata": {},
   "outputs": [],
   "source": [
    "# from multiprocessing import cpu_count\n",
    "# from multiprocessing.pool import ThreadPool\n",
    "\n",
    "# def download_parallel(args):\n",
    "#     url, name, folder = args\n",
    "#     download_image(url, name, folder)\n",
    "\n",
    "# args_list = list(zip(df['image_url'], df['id'], df['scientific_name']))\n",
    "\n",
    "# cpus = cpu_count()\n",
    "\n",
    "# t1 = time.perf_counter()\n",
    "\n",
    "# with ThreadPool(cpus - 1) as pool:\n",
    "#     print(\"Starting parallel image downloads...\")\n",
    "#     pool.imap_unordered(download_parallel, args_list)\n",
    "#     pool.close()\n",
    "#     pool.join()\n",
    "\n",
    "# t2 = time.perf_counter()\n",
    "# print(\"All downloads completed.\")\n",
    "# print(f'Finished in {t2-t1} seconds')"
   ]
  },
  {
   "cell_type": "code",
   "execution_count": null,
   "id": "42230e3f-d0a0-4110-8cca-c63358384f10",
   "metadata": {},
   "outputs": [],
   "source": []
  }
 ],
 "metadata": {
  "kernelspec": {
   "display_name": "CNN enviroment",
   "language": "python",
   "name": "cnn"
  },
  "language_info": {
   "codemirror_mode": {
    "name": "ipython",
    "version": 3
   },
   "file_extension": ".py",
   "mimetype": "text/x-python",
   "name": "python",
   "nbconvert_exporter": "python",
   "pygments_lexer": "ipython3",
   "version": "3.10.13"
  }
 },
 "nbformat": 4,
 "nbformat_minor": 5
}
